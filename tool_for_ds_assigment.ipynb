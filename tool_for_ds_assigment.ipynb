{
 "cells": [
  {
   "cell_type": "markdown",
   "metadata": {},
   "source": [
    "# Tools for Data Science Assignment"
   ]
  },
  {
   "cell_type": "markdown",
   "metadata": {},
   "source": [
    "This is my submission for the assignment of the course"
   ]
  },
  {
   "cell_type": "markdown",
   "metadata": {},
   "source": [
    "Data science languages:\n",
    "- Python\n",
    "- R\n",
    "- SQL\n",
    "- Java\n",
    "- C++\n",
    "- Scala\n"
   ]
  },
  {
   "cell_type": "markdown",
   "metadata": {},
   "source": [
    "Data science libraries:\n",
    "- Scikit-learn\n",
    "- PyTorch\n",
    "- Keras\n",
    "- Matplotlib\n",
    "- Seaborn\n",
    "\n"
   ]
  },
  {
   "cell_type": "markdown",
   "metadata": {},
   "source": [
    "Data science tools:\n",
    "|Task|Tools|\n",
    "|----------|---------|\n",
    "|Data Management|MySQL, PostgreSQL|\n",
    "|Data Integration and Transformation|Apache AirFlow, Kubeflow, Apache Kafka|\n",
    "|Data Visualization|PixieDust, Hue|\n",
    "|Model Deployment, Monitoring and Assessment|Apache PredictionIO, Kubernetes, ModelDB, Prometheus|\n",
    "|Code Development and Execution|Jupyter IDE, RStudio|\n",
    "|Code Asset Management Tools|Git, GitLab|"
   ]
  },
  {
   "cell_type": "markdown",
   "metadata": {},
   "source": [
    "Arithmetic expression in Python including addition (+), subtraction (-), division (/), etc"
   ]
  },
  {
   "cell_type": "code",
   "execution_count": 1,
   "metadata": {},
   "outputs": [
    {
     "data": {
      "text/plain": [
       "28"
      ]
     },
     "execution_count": 1,
     "metadata": {},
     "output_type": "execute_result"
    }
   ],
   "source": [
    "# Code to multiply and add numbers\n",
    "8 * 3 + 4"
   ]
  },
  {
   "cell_type": "code",
   "execution_count": 3,
   "metadata": {},
   "outputs": [
    {
     "name": "stdout",
     "output_type": "stream",
     "text": [
      "130 mins = 2.1666666666666665 hours\n"
     ]
    }
   ],
   "source": [
    "# code to convert minutes to hours\n",
    "minutes = 130\n",
    "hours = minutes / 60\n",
    "print(f\"{minutes} mins = {hours} hours\")"
   ]
  },
  {
   "cell_type": "markdown",
   "metadata": {},
   "source": [
    "Objectives:\n",
    "- Create a Jupyter Notebook with markdown and code cells\n",
    "- List examples of languages, libraries and tools used in Data Science\n",
    "- Share your Jupyter Notebook publicly on GitHub\n",
    "- Evaluate notebooks submitted by your peers using the provided rubric\n",
    "- Demonstrate proficiency in Data Science toolkit knowledge"
   ]
  },
  {
   "cell_type": "markdown",
   "metadata": {},
   "source": [
    "Author name: Hai Ly"
   ]
  },
  {
   "cell_type": "markdown",
   "metadata": {},
   "source": [
    "You can find this notebook on Github: "
   ]
  }
 ],
 "metadata": {
  "kernelspec": {
   "display_name": "Python 3",
   "language": "python",
   "name": "python3"
  },
  "language_info": {
   "codemirror_mode": {
    "name": "ipython",
    "version": 3
   },
   "file_extension": ".py",
   "mimetype": "text/x-python",
   "name": "python",
   "nbconvert_exporter": "python",
   "pygments_lexer": "ipython3",
   "version": "3.10.4"
  }
 },
 "nbformat": 4,
 "nbformat_minor": 2
}
